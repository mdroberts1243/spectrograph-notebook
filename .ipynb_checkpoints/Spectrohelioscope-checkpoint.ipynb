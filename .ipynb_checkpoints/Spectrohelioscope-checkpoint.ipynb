{
 "cells": [
  {
   "cell_type": "code",
   "execution_count": 1,
   "id": "1472d774",
   "metadata": {},
   "outputs": [
    {
     "name": "stdout",
     "output_type": "stream",
     "text": [
      "Requirement already satisfied: pandas in c:\\users\\mark\\appdata\\local\\programs\\python\\python313\\lib\\site-packages (2.2.3)\n",
      "Requirement already satisfied: numpy in c:\\users\\mark\\appdata\\local\\programs\\python\\python313\\lib\\site-packages (2.2.5)\n",
      "Requirement already satisfied: matplotlib in c:\\users\\mark\\appdata\\local\\programs\\python\\python313\\lib\\site-packages (3.10.3)\n",
      "Requirement already satisfied: openpyxl in c:\\users\\mark\\appdata\\local\\programs\\python\\python313\\lib\\site-packages (3.1.5)\n",
      "Requirement already satisfied: ipywidgets in c:\\users\\mark\\appdata\\local\\programs\\python\\python313\\lib\\site-packages (8.1.7)\n",
      "Requirement already satisfied: python-dateutil>=2.8.2 in c:\\users\\mark\\appdata\\local\\programs\\python\\python313\\lib\\site-packages (from pandas) (2.9.0.post0)\n",
      "Requirement already satisfied: pytz>=2020.1 in c:\\users\\mark\\appdata\\local\\programs\\python\\python313\\lib\\site-packages (from pandas) (2025.2)\n",
      "Requirement already satisfied: tzdata>=2022.7 in c:\\users\\mark\\appdata\\local\\programs\\python\\python313\\lib\\site-packages (from pandas) (2025.2)\n",
      "Requirement already satisfied: contourpy>=1.0.1 in c:\\users\\mark\\appdata\\local\\programs\\python\\python313\\lib\\site-packages (from matplotlib) (1.3.2)\n",
      "Requirement already satisfied: cycler>=0.10 in c:\\users\\mark\\appdata\\local\\programs\\python\\python313\\lib\\site-packages (from matplotlib) (0.12.1)\n",
      "Requirement already satisfied: fonttools>=4.22.0 in c:\\users\\mark\\appdata\\local\\programs\\python\\python313\\lib\\site-packages (from matplotlib) (4.58.0)\n",
      "Requirement already satisfied: kiwisolver>=1.3.1 in c:\\users\\mark\\appdata\\local\\programs\\python\\python313\\lib\\site-packages (from matplotlib) (1.4.8)\n",
      "Requirement already satisfied: packaging>=20.0 in c:\\users\\mark\\appdata\\local\\programs\\python\\python313\\lib\\site-packages (from matplotlib) (25.0)\n",
      "Requirement already satisfied: pillow>=8 in c:\\users\\mark\\appdata\\local\\programs\\python\\python313\\lib\\site-packages (from matplotlib) (11.2.1)\n",
      "Requirement already satisfied: pyparsing>=2.3.1 in c:\\users\\mark\\appdata\\local\\programs\\python\\python313\\lib\\site-packages (from matplotlib) (3.2.3)\n",
      "Requirement already satisfied: et-xmlfile in c:\\users\\mark\\appdata\\local\\programs\\python\\python313\\lib\\site-packages (from openpyxl) (2.0.0)\n",
      "Requirement already satisfied: comm>=0.1.3 in c:\\users\\mark\\appdata\\local\\programs\\python\\python313\\lib\\site-packages (from ipywidgets) (0.2.2)\n",
      "Requirement already satisfied: ipython>=6.1.0 in c:\\users\\mark\\appdata\\local\\programs\\python\\python313\\lib\\site-packages (from ipywidgets) (9.2.0)\n",
      "Requirement already satisfied: traitlets>=4.3.1 in c:\\users\\mark\\appdata\\local\\programs\\python\\python313\\lib\\site-packages (from ipywidgets) (5.14.3)\n",
      "Requirement already satisfied: widgetsnbextension~=4.0.14 in c:\\users\\mark\\appdata\\local\\programs\\python\\python313\\lib\\site-packages (from ipywidgets) (4.0.14)\n",
      "Requirement already satisfied: jupyterlab_widgets~=3.0.15 in c:\\users\\mark\\appdata\\local\\programs\\python\\python313\\lib\\site-packages (from ipywidgets) (3.0.15)\n",
      "Requirement already satisfied: colorama in c:\\users\\mark\\appdata\\local\\programs\\python\\python313\\lib\\site-packages (from ipython>=6.1.0->ipywidgets) (0.4.6)\n",
      "Requirement already satisfied: decorator in c:\\users\\mark\\appdata\\local\\programs\\python\\python313\\lib\\site-packages (from ipython>=6.1.0->ipywidgets) (5.2.1)\n",
      "Requirement already satisfied: ipython-pygments-lexers in c:\\users\\mark\\appdata\\local\\programs\\python\\python313\\lib\\site-packages (from ipython>=6.1.0->ipywidgets) (1.1.1)\n",
      "Requirement already satisfied: jedi>=0.16 in c:\\users\\mark\\appdata\\local\\programs\\python\\python313\\lib\\site-packages (from ipython>=6.1.0->ipywidgets) (0.19.2)\n",
      "Requirement already satisfied: matplotlib-inline in c:\\users\\mark\\appdata\\local\\programs\\python\\python313\\lib\\site-packages (from ipython>=6.1.0->ipywidgets) (0.1.7)\n",
      "Requirement already satisfied: prompt_toolkit<3.1.0,>=3.0.41 in c:\\users\\mark\\appdata\\local\\programs\\python\\python313\\lib\\site-packages (from ipython>=6.1.0->ipywidgets) (3.0.51)\n",
      "Requirement already satisfied: pygments>=2.4.0 in c:\\users\\mark\\appdata\\local\\programs\\python\\python313\\lib\\site-packages (from ipython>=6.1.0->ipywidgets) (2.19.1)\n",
      "Requirement already satisfied: stack_data in c:\\users\\mark\\appdata\\local\\programs\\python\\python313\\lib\\site-packages (from ipython>=6.1.0->ipywidgets) (0.6.3)\n",
      "Requirement already satisfied: wcwidth in c:\\users\\mark\\appdata\\local\\programs\\python\\python313\\lib\\site-packages (from prompt_toolkit<3.1.0,>=3.0.41->ipython>=6.1.0->ipywidgets) (0.2.13)\n",
      "Requirement already satisfied: parso<0.9.0,>=0.8.4 in c:\\users\\mark\\appdata\\local\\programs\\python\\python313\\lib\\site-packages (from jedi>=0.16->ipython>=6.1.0->ipywidgets) (0.8.4)\n",
      "Requirement already satisfied: six>=1.5 in c:\\users\\mark\\appdata\\local\\programs\\python\\python313\\lib\\site-packages (from python-dateutil>=2.8.2->pandas) (1.17.0)\n",
      "Requirement already satisfied: executing>=1.2.0 in c:\\users\\mark\\appdata\\local\\programs\\python\\python313\\lib\\site-packages (from stack_data->ipython>=6.1.0->ipywidgets) (2.2.0)\n",
      "Requirement already satisfied: asttokens>=2.1.0 in c:\\users\\mark\\appdata\\local\\programs\\python\\python313\\lib\\site-packages (from stack_data->ipython>=6.1.0->ipywidgets) (3.0.0)\n",
      "Requirement already satisfied: pure-eval in c:\\users\\mark\\appdata\\local\\programs\\python\\python313\\lib\\site-packages (from stack_data->ipython>=6.1.0->ipywidgets) (0.2.3)\n",
      "Note: you may need to restart the kernel to use updated packages.\n"
     ]
    }
   ],
   "source": [
    "%pip install --upgrade pandas numpy matplotlib openpyxl ipywidgets"
   ]
  },
  {
   "cell_type": "code",
   "execution_count": 20,
   "id": "adcc4f76",
   "metadata": {},
   "outputs": [
    {
     "data": {
      "application/vnd.jupyter.widget-view+json": {
       "model_id": "117aa394c8144e60b7454aa27b682477",
       "version_major": 2,
       "version_minor": 0
      },
      "text/plain": [
       "VBox(children=(FloatText(value=80.0, description='🔭 Aperture (mm):', layout=Layout(width='200px')), FloatText(…"
      ]
     },
     "metadata": {},
     "output_type": "display_data"
    }
   ],
   "source": [
    "import ipywidgets as widgets\n",
    "from IPython.display import HTML, display\n",
    "\n",
    "# Create interactive widgets\n",
    "aperture = widgets.FloatText(value=80, description=\"🔭 Aperture (mm):\", layout=widgets.Layout(width='200px'))\n",
    "focal_length = widgets.FloatText(value=400, description=\"📏 Focal Length (mm):\", layout=widgets.Layout(width='200px'))\n",
    "stopped_down_aperture = widgets.FloatText(description=\"⏳ Stopped-Down Aperture (mm):\", layout=widgets.Layout(width='200px'))\n",
    "use_stopped_down = widgets.Checkbox(value=False, description=\"Use stopped-down aperture?\")\n",
    "\n",
    "# Arrange widgets neatly\n",
    "ui = widgets.VBox([aperture, focal_length, use_stopped_down, stopped_down_aperture])\n",
    "display(ui)"
   ]
  },
  {
   "cell_type": "markdown",
   "id": "9cf35f9c",
   "metadata": {},
   "source": [
    "# Telescope Section\n",
    "\n",
    "## Understanding Telescope Parameters\n",
    "The telescope is the first optical component in the spectroheliograph system. It determines how much light enters and how solar features are projected onto the entrance slit.\n",
    "\n",
    "### Aperture and Focal Length\n",
    "The **aperture** defines how much light enters the telescope. The **focal length** determines magnification and resolution.\n",
    "\n",
    "### Focal Ratio\n",
    "The focal ratio, denoted as \\( $ f_r $ \\), is defined as: $ f_r = \\frac{F}{D} $\n",
    "\n",
    "This value impacts the system’s depth of field and brightness.\n",
    "\n",
    "### Stopped-Down Aperture\n",
    "If the aperture is reduced using a stop-down mechanism, the **effective focal ratio** is updated dynamically.\n",
    "\n",
    "### Interactive Inputs\n",
    "You will be prompted to enter:\n",
    "- Telescope aperture (mm)\n",
    "- Focal length (mm)\n",
    "- Stopped-down aperture (if applicable)"
   ]
  },
  {
   "cell_type": "code",
   "execution_count": 3,
   "id": "054c0fa1",
   "metadata": {},
   "outputs": [
    {
     "data": {
      "application/vnd.jupyter.widget-view+json": {
       "model_id": "15dd3f948f4c4740a7b2ba4f0e40a6bc",
       "version_major": 2,
       "version_minor": 0
      },
      "text/plain": [
       "Button(description='Calculate Focal Ratio', style=ButtonStyle())"
      ]
     },
     "metadata": {},
     "output_type": "display_data"
    },
    {
     "data": {
      "application/vnd.jupyter.widget-view+json": {
       "model_id": "56d94beba8644d4fb93c7d6a298a1ca4",
       "version_major": 2,
       "version_minor": 0
      },
      "text/plain": [
       "Output()"
      ]
     },
     "metadata": {},
     "output_type": "display_data"
    }
   ],
   "source": [
    "output = widgets.Output()\n",
    "\n",
    "def calculate_focal_ratio(b):\n",
    "    with output:\n",
    "        output.clear_output()  # Clear previous output\n",
    "        D = stopped_down_aperture.value if use_stopped_down.value else aperture.value\n",
    "        F = focal_length.value\n",
    "        f_r = F / D\n",
    "        print(f\"Effective Focal Ratio: f/{f_r:.2f}\")\n",
    "\n",
    "# Create button\n",
    "calc_button = widgets.Button(description=\"Calculate Focal Ratio\")\n",
    "calc_button.on_click(calculate_focal_ratio)\n",
    "\n",
    "display(calc_button, output)"
   ]
  }
 ],
 "metadata": {
  "kernelspec": {
   "display_name": "Python 3",
   "language": "python",
   "name": "python3"
  },
  "language_info": {
   "codemirror_mode": {
    "name": "ipython",
    "version": 3
   },
   "file_extension": ".py",
   "mimetype": "text/x-python",
   "name": "python",
   "nbconvert_exporter": "python",
   "pygments_lexer": "ipython3",
   "version": "3.13.3"
  }
 },
 "nbformat": 4,
 "nbformat_minor": 5
}
